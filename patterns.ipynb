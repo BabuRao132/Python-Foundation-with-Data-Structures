{
  "nbformat": 4,
  "nbformat_minor": 0,
  "metadata": {
    "colab": {
      "name": "patterns.ipynb",
      "provenance": [],
      "authorship_tag": "ABX9TyM/DPcuK8DXHQ5tgSZ9sG0u",
      "include_colab_link": true
    },
    "kernelspec": {
      "name": "python3",
      "display_name": "Python 3"
    },
    "language_info": {
      "name": "python"
    }
  },
  "cells": [
    {
      "cell_type": "markdown",
      "metadata": {
        "id": "view-in-github",
        "colab_type": "text"
      },
      "source": [
        "<a href=\"https://colab.research.google.com/github/BabuRao132/python-Basics/blob/patterns/patterns.ipynb\" target=\"_parent\"><img src=\"https://colab.research.google.com/assets/colab-badge.svg\" alt=\"Open In Colab\"/></a>"
      ]
    },
    {
      "cell_type": "markdown",
      "source": [
        "Sqare pattern using while loop\n",
        "```\n",
        "  ****\n",
        "  ****\n",
        "  ****\n",
        "  ****\n",
        "```"
      ],
      "metadata": {
        "id": "GpL4sApPIUMa"
      }
    },
    {
      "cell_type": "code",
      "source": [
        "n=int(input())\n",
        "i=1\n",
        "while i<=n:\n",
        "  j=1\n",
        "  while j<=n:\n",
        "    print(\"*\",end='')\n",
        "    j=j+1\n",
        "  print()\n",
        "  i=i+1"
      ],
      "metadata": {
        "colab": {
          "base_uri": "https://localhost:8080/"
        },
        "id": "mPCEfTEcIS71",
        "outputId": "27fb4bc1-376b-4c29-9ce2-852561652adf"
      },
      "execution_count": null,
      "outputs": [
        {
          "output_type": "stream",
          "name": "stdout",
          "text": [
            "5\n",
            "*****\n",
            "*****\n",
            "*****\n",
            "*****\n",
            "*****\n"
          ]
        }
      ]
    },
    {
      "cell_type": "markdown",
      "source": [
        "Sqare pattern using while loop\n",
        "```\n",
        "1111\n",
        "2222\n",
        "3333\n",
        "4444\n",
        "```"
      ],
      "metadata": {
        "id": "Muwlg7cENwlt"
      }
    },
    {
      "cell_type": "code",
      "source": [
        "n=int(input())\n",
        "i=1\n",
        "while i<=n:\n",
        "  j=1\n",
        "  while j<=n:\n",
        "    print(i,end='')\n",
        "    j=j+1\n",
        "  print()\n",
        "  i=i+1"
      ],
      "metadata": {
        "colab": {
          "base_uri": "https://localhost:8080/"
        },
        "id": "i417nAakN9p-",
        "outputId": "721ecab1-d7ed-48d5-f66a-b84ff3e72143"
      },
      "execution_count": 2,
      "outputs": [
        {
          "output_type": "stream",
          "name": "stdout",
          "text": [
            "5\n",
            "11111\n",
            "22222\n",
            "33333\n",
            "44444\n",
            "55555\n"
          ]
        }
      ]
    }
  ]
}