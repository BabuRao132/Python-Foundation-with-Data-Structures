{
 "cells": [
  {
   "cell_type": "code",
   "execution_count": 2,
   "id": "3b67b109",
   "metadata": {},
   "outputs": [
    {
     "name": "stdout",
     "output_type": "stream",
     "text": [
      "15\n",
      "*\n",
      " * *\n",
      "   * * *\n",
      "     * * * *\n",
      "       * * * * *\n",
      "         * * * * * *\n",
      "           * * * * * * *\n",
      "             * * * * * * * *\n",
      "           * * * * * * *\n",
      "         * * * * * *\n",
      "       * * * * *\n",
      "     * * * *\n",
      "   * * *\n",
      " * *\n",
      "*\n"
     ]
    }
   ],
   "source": [
    "## Read input as specified in the question.\n",
    "## Print output as specified in the question.\n",
    "n=int(input())\n",
    "n1=(n+1)/2\n",
    "n2=n-n1\n",
    "i=1\n",
    "while i<=n1:\n",
    "  spaces=1\n",
    "  while spaces<=2*i-3:\n",
    "    print(' ',end='')\n",
    "    spaces=spaces+1\n",
    "  j=1\n",
    "  while j<=i:\n",
    "    if j==1:\n",
    "      print('*',end='')\n",
    "    else:\n",
    "      print(' *',end='')\n",
    "    j=j+1\n",
    "  i=i+1\n",
    "  print()\n",
    "i=n2\n",
    "while i>=1:\n",
    "  spaces=1\n",
    "  while spaces<=2*i-3:\n",
    "    print(' ',end='')\n",
    "    spaces=spaces+1\n",
    "  k=1\n",
    "  while k<=i:\n",
    "    if k==1:\n",
    "      print('*',end='')\n",
    "    else:\n",
    "      print(' *',end='')\n",
    "    k=k+1\n",
    "  i=i-1\n",
    "  print()\n"
   ]
  }
 ],
 "metadata": {
  "kernelspec": {
   "display_name": "Python 3 (ipykernel)",
   "language": "python",
   "name": "python3"
  },
  "language_info": {
   "codemirror_mode": {
    "name": "ipython",
    "version": 3
   },
   "file_extension": ".py",
   "mimetype": "text/x-python",
   "name": "python",
   "nbconvert_exporter": "python",
   "pygments_lexer": "ipython3",
   "version": "3.9.12"
  }
 },
 "nbformat": 4,
 "nbformat_minor": 5
}
