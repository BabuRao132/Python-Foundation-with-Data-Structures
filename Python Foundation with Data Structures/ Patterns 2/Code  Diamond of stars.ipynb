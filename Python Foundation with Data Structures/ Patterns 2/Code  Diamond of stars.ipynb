{
 "cells": [
  {
   "cell_type": "code",
   "execution_count": 2,
   "id": "ed16a00f",
   "metadata": {},
   "outputs": [
    {
     "name": "stdout",
     "output_type": "stream",
     "text": [
      "7\n",
      "   *\n",
      "  ***\n",
      " *****\n",
      "*******\n",
      " *****\n",
      "  ***\n",
      "   *\n"
     ]
    }
   ],
   "source": [
    "## Read input as specified in the question.\n",
    "## Print output as specified in the question.\n",
    "n=int(input())\n",
    "n1=(n+1)/2\n",
    "n2=n-n1\n",
    "i=1\n",
    "while i<=n1:\n",
    "    space=1\n",
    "    while space<=n1-i:\n",
    "        print(' ',end='')\n",
    "        space=space+1\n",
    "    j=1\n",
    "    while j<=2*i-1:\n",
    "        print('*',end='')\n",
    "        j=j+1\n",
    "    i=i+1\n",
    "    print()\n",
    "i=n2\n",
    "while i>=1:\n",
    "    space=1\n",
    "    while space<=n1-i:\n",
    "        print(' ',end='')\n",
    "        space=space+1\n",
    "    j=1\n",
    "    while j<=2*i-1:\n",
    "        print('*',end='')\n",
    "        j=j+1\n",
    "    i=i-1\n",
    "    print()\n",
    "\n",
    "        "
   ]
  }
 ],
 "metadata": {
  "kernelspec": {
   "display_name": "Python 3 (ipykernel)",
   "language": "python",
   "name": "python3"
  },
  "language_info": {
   "codemirror_mode": {
    "name": "ipython",
    "version": 3
   },
   "file_extension": ".py",
   "mimetype": "text/x-python",
   "name": "python",
   "nbconvert_exporter": "python",
   "pygments_lexer": "ipython3",
   "version": "3.9.12"
  }
 },
 "nbformat": 4,
 "nbformat_minor": 5
}
