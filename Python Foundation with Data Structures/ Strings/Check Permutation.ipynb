{
 "cells": [
  {
   "cell_type": "code",
   "execution_count": null,
   "id": "4397b48b",
   "metadata": {},
   "outputs": [],
   "source": [
    "\n",
    "from sys import stdin\n",
    "def isPermutation(string1, string2) :\n",
    "    \n",
    "\t#Your code goes here\n",
    "\ty=sorted(string1)\n",
    "\tz=sorted(string2)\n",
    "\tif(y==z):\n",
    "\t\treturn True\n",
    "\telse:\n",
    "\t\treturn False\n",
    "    \n",
    "\n",
    "\n",
    "#main\n",
    "string1 = stdin.readline().strip();\n",
    "string2 = stdin.readline().strip();\n",
    "\n",
    "ans = isPermutation(string1, string2)\n",
    "\n",
    "if ans :\n",
    "    print('true')\n",
    "else :\n",
    "    print('false')\n",
    "\n"
   ]
  }
 ],
 "metadata": {
  "kernelspec": {
   "display_name": "Python 3 (ipykernel)",
   "language": "python",
   "name": "python3"
  },
  "language_info": {
   "codemirror_mode": {
    "name": "ipython",
    "version": 3
   },
   "file_extension": ".py",
   "mimetype": "text/x-python",
   "name": "python",
   "nbconvert_exporter": "python",
   "pygments_lexer": "ipython3",
   "version": "3.9.12"
  }
 },
 "nbformat": 4,
 "nbformat_minor": 5
}
