{
 "cells": [
  {
   "cell_type": "code",
   "execution_count": null,
   "id": "0de19435",
   "metadata": {},
   "outputs": [],
   "source": [
    "\n",
    "from sys import stdin\n",
    "\n",
    "\n",
    "def reverseEachWord(string) :\n",
    "\tb=[]\n",
    "\ta=string.split()\n",
    "\tfor i in a:\n",
    "\t\tb.append((i[::-1]))\n",
    "\treturn (\" \".join(b))\n",
    "\n",
    "\n",
    "#main\n",
    "string = stdin.readline().strip()\n",
    "\n",
    "ans = reverseEachWord(string)\n",
    "\n",
    "print(ans)"
   ]
  }
 ],
 "metadata": {
  "kernelspec": {
   "display_name": "Python 3 (ipykernel)",
   "language": "python",
   "name": "python3"
  },
  "language_info": {
   "codemirror_mode": {
    "name": "ipython",
    "version": 3
   },
   "file_extension": ".py",
   "mimetype": "text/x-python",
   "name": "python",
   "nbconvert_exporter": "python",
   "pygments_lexer": "ipython3",
   "version": "3.9.12"
  }
 },
 "nbformat": 4,
 "nbformat_minor": 5
}
