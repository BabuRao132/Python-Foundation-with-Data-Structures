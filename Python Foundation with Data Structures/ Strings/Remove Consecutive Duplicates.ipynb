{
 "cells": [
  {
   "cell_type": "code",
   "execution_count": null,
   "id": "e4d449c0",
   "metadata": {},
   "outputs": [],
   "source": [
    "\n",
    "from sys import stdin\n",
    "\n",
    "def removeConsecutiveDuplicates(string) :\n",
    "\n",
    "\t# Your code goes here\n",
    "    for i in range(0,len(string)-1):\n",
    "        if string[i] == string[i+1]:\n",
    "            pass\n",
    "        else:\n",
    "            print(string[i],end=\"\")#l.append(string[i])\n",
    "            continue\n",
    "    return string[-1]\n",
    "    #return (\"\".join(l))\n",
    "\n",
    "\n",
    "\n",
    "#main\n",
    "string = stdin.readline().strip()\n",
    "\n",
    "ans = removeConsecutiveDuplicates(string)\n",
    "\n",
    "print(ans)"
   ]
  }
 ],
 "metadata": {
  "kernelspec": {
   "display_name": "Python 3 (ipykernel)",
   "language": "python",
   "name": "python3"
  },
  "language_info": {
   "codemirror_mode": {
    "name": "ipython",
    "version": 3
   },
   "file_extension": ".py",
   "mimetype": "text/x-python",
   "name": "python",
   "nbconvert_exporter": "python",
   "pygments_lexer": "ipython3",
   "version": "3.9.12"
  }
 },
 "nbformat": 4,
 "nbformat_minor": 5
}
