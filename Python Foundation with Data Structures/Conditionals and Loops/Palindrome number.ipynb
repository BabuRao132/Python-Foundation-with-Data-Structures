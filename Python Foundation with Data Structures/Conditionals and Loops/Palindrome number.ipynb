{
 "cells": [
  {
   "cell_type": "code",
   "execution_count": 1,
   "id": "c3308e58",
   "metadata": {},
   "outputs": [
    {
     "name": "stdout",
     "output_type": "stream",
     "text": [
      "26654545\n",
      "false\n"
     ]
    }
   ],
   "source": [
    "def checkPalindrome(num):\n",
    "    n=num\n",
    "#Implement Your Code Here\n",
    "\n",
    "    ldigit=0\n",
    "    if n//10<1:\n",
    "        return True\n",
    "    else:\n",
    "        while ldigit==0:\n",
    "            ldigit=n%10\n",
    "            n=n//10\n",
    "        rnum=ldigit\n",
    "        while n!=0:\n",
    "            ldigit=n%10\n",
    "            n=n//10\n",
    "            rnum=(rnum*10)+ldigit\n",
    "    if rnum==num:\n",
    "        return True\n",
    "\n",
    "num = int(input())\n",
    "isPalindrome = checkPalindrome(num)\n",
    "if(isPalindrome):\n",
    "    print('true')\n",
    "else:\n",
    "    print('false')\n"
   ]
  }
 ],
 "metadata": {
  "kernelspec": {
   "display_name": "Python 3 (ipykernel)",
   "language": "python",
   "name": "python3"
  },
  "language_info": {
   "codemirror_mode": {
    "name": "ipython",
    "version": 3
   },
   "file_extension": ".py",
   "mimetype": "text/x-python",
   "name": "python",
   "nbconvert_exporter": "python",
   "pygments_lexer": "ipython3",
   "version": "3.9.12"
  }
 },
 "nbformat": 4,
 "nbformat_minor": 5
}
