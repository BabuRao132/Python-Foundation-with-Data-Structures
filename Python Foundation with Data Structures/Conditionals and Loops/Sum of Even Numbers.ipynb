{
 "cells": [
  {
   "cell_type": "code",
   "execution_count": 1,
   "id": "84276a47",
   "metadata": {},
   "outputs": [
    {
     "name": "stdout",
     "output_type": "stream",
     "text": [
      "10\n",
      "30\n"
     ]
    }
   ],
   "source": [
    "'''\n",
    "\tPre-requisite to solve this problem:\n",
    "\tIn this question, we have to find sum of all even numbers till n. To take sum of all the even numbers, we have to take a variable and initialize it to zero. Let us name this variable as sum. \n",
    "\tFollowing code is used to add 2 to sum variable and update it to the same sum variable:\n",
    "\tsum = sum + 2 \n",
    "\t\n",
    "\tHint to solve this problem: We will have to loop on even numbers only and add the even numbers to the same sum variable, described above.\n",
    "'''\n",
    "\n",
    "## Read input as specified in the question.\n",
    "## Print output as specified in the question.\n",
    "n=int(input())\n",
    "count=1\n",
    "sum=0\n",
    "while count<=n:\n",
    "    if count%2==0:\n",
    "        sum=sum+count\n",
    "    count=count+1\n",
    "print(sum)"
   ]
  }
 ],
 "metadata": {
  "kernelspec": {
   "display_name": "Python 3 (ipykernel)",
   "language": "python",
   "name": "python3"
  },
  "language_info": {
   "codemirror_mode": {
    "name": "ipython",
    "version": 3
   },
   "file_extension": ".py",
   "mimetype": "text/x-python",
   "name": "python",
   "nbconvert_exporter": "python",
   "pygments_lexer": "ipython3",
   "version": "3.9.12"
  }
 },
 "nbformat": 4,
 "nbformat_minor": 5
}
