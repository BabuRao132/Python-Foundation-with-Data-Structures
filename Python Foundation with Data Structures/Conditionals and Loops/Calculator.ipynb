{
 "cells": [
  {
   "cell_type": "code",
   "execution_count": 1,
   "id": "8b685c77",
   "metadata": {},
   "outputs": [
    {
     "name": "stdout",
     "output_type": "stream",
     "text": [
      "2\n",
      "2\n",
      "3\n",
      "-1\n",
      "6\n"
     ]
    }
   ],
   "source": [
    "# Write your code here\n",
    "opnum=int(input())\n",
    "while opnum!=6:\n",
    "    if opnum==1:\n",
    "        snum1=int(input())\n",
    "        snum2=int(input())\n",
    "        print(snum1+snum2)\n",
    "    elif opnum==2:\n",
    "        subnum1=int(input())\n",
    "        subnum2=int(input())\n",
    "        print(subnum1-subnum2)\n",
    "    elif opnum==3:\n",
    "        mnum1=int(input())\n",
    "        mnum2=int(input())\n",
    "        print(mnum1*mnum2)\n",
    "    elif opnum==4:\n",
    "        qnum1=int(input())\n",
    "        qnum2=int(input())\n",
    "        print(int(qnum1/qnum2))\n",
    "    elif opnum==5:\n",
    "        rnum1=int(input())\n",
    "        rnum2=int(input())\n",
    "        print(rnum1%rnum2)\n",
    "    else:\n",
    "        print(\"Invalid Operation\")\n",
    "    opnum=int(input())\n"
   ]
  }
 ],
 "metadata": {
  "kernelspec": {
   "display_name": "Python 3 (ipykernel)",
   "language": "python",
   "name": "python3"
  },
  "language_info": {
   "codemirror_mode": {
    "name": "ipython",
    "version": 3
   },
   "file_extension": ".py",
   "mimetype": "text/x-python",
   "name": "python",
   "nbconvert_exporter": "python",
   "pygments_lexer": "ipython3",
   "version": "3.9.12"
  }
 },
 "nbformat": 4,
 "nbformat_minor": 5
}
