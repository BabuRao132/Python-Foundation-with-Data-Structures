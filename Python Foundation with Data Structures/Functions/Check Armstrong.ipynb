{
 "cells": [
  {
   "cell_type": "code",
   "execution_count": 1,
   "id": "ede48eda",
   "metadata": {},
   "outputs": [
    {
     "name": "stdout",
     "output_type": "stream",
     "text": [
      "6\n",
      "true\n"
     ]
    }
   ],
   "source": [
    "## Read input as specified in the question.\n",
    "## Print output as specified in the question.\n",
    "n=int(input())\n",
    "def IsAmstrong(temp):\n",
    "  digits=0\n",
    "  while temp>0:\n",
    "    digits=digits+1\n",
    "    temp=temp//10\n",
    "  sum=0\n",
    "  temp=n\n",
    "  for i in range(1,digits+1):\n",
    "    r=temp%10\n",
    "    sum=sum+r**digits\n",
    "    temp=temp//10\n",
    "  if n==sum:\n",
    "    print('true')\n",
    "  else:\n",
    "    print('false')\n",
    "\n",
    "IsAmstrong(n)"
   ]
  }
 ],
 "metadata": {
  "kernelspec": {
   "display_name": "Python 3 (ipykernel)",
   "language": "python",
   "name": "python3"
  },
  "language_info": {
   "codemirror_mode": {
    "name": "ipython",
    "version": 3
   },
   "file_extension": ".py",
   "mimetype": "text/x-python",
   "name": "python",
   "nbconvert_exporter": "python",
   "pygments_lexer": "ipython3",
   "version": "3.9.12"
  }
 },
 "nbformat": 4,
 "nbformat_minor": 5
}
