{
 "cells": [
  {
   "cell_type": "code",
   "execution_count": null,
   "id": "dbeb710e",
   "metadata": {},
   "outputs": [],
   "source": [
    "def printtable(start,end,step):\n",
    "  for i in range(start,end+1,step):\n",
    "    c=(i-32)*(5/9)\n",
    "    print(i,'\\t',int(c))\n",
    "s=int(input())\n",
    "e=int(input())\n",
    "w=int(input())\n",
    "printtable(s,e,w)\n",
    "\n",
    "\n",
    "\n",
    "\n",
    "\n"
   ]
  }
 ],
 "metadata": {
  "kernelspec": {
   "display_name": "Python 3 (ipykernel)",
   "language": "python",
   "name": "python3"
  },
  "language_info": {
   "codemirror_mode": {
    "name": "ipython",
    "version": 3
   },
   "file_extension": ".py",
   "mimetype": "text/x-python",
   "name": "python",
   "nbconvert_exporter": "python",
   "pygments_lexer": "ipython3",
   "version": "3.9.12"
  }
 },
 "nbformat": 4,
 "nbformat_minor": 5
}
