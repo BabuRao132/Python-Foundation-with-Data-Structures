{
 "cells": [
  {
   "cell_type": "code",
   "execution_count": null,
   "id": "ad899e27",
   "metadata": {},
   "outputs": [],
   "source": [
    "# Write your code here\n",
    "x1=int(input())\n",
    "y1=int(input())\n",
    "x2=int(input())\n",
    "y2=int(input())\n",
    "area_of_rectangle=(x2-x1)*(y2-y1)\n",
    "print(area_of_rectangle)"
   ]
  }
 ],
 "metadata": {
  "kernelspec": {
   "display_name": "Python 3 (ipykernel)",
   "language": "python",
   "name": "python3"
  },
  "language_info": {
   "codemirror_mode": {
    "name": "ipython",
    "version": 3
   },
   "file_extension": ".py",
   "mimetype": "text/x-python",
   "name": "python",
   "nbconvert_exporter": "python",
   "pygments_lexer": "ipython3",
   "version": "3.9.12"
  }
 },
 "nbformat": 4,
 "nbformat_minor": 5
}
