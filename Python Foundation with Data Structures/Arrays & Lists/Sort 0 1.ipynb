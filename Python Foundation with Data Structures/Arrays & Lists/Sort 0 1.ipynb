{
 "cells": [
  {
   "cell_type": "code",
   "execution_count": 1,
   "id": "659289dd",
   "metadata": {},
   "outputs": [
    {
     "ename": "ValueError",
     "evalue": "invalid literal for int() with base 10: ''",
     "output_type": "error",
     "traceback": [
      "\u001b[1;31m---------------------------------------------------------------------------\u001b[0m",
      "\u001b[1;31mValueError\u001b[0m                                Traceback (most recent call last)",
      "Input \u001b[1;32mIn [1]\u001b[0m, in \u001b[0;36m<cell line: 30>\u001b[1;34m()\u001b[0m\n\u001b[0;32m     26\u001b[0m     \u001b[38;5;28mprint\u001b[39m()\n\u001b[0;32m     29\u001b[0m \u001b[38;5;66;03m#main\u001b[39;00m\n\u001b[1;32m---> 30\u001b[0m t \u001b[38;5;241m=\u001b[39m \u001b[38;5;28;43mint\u001b[39;49m\u001b[43m(\u001b[49m\u001b[43mstdin\u001b[49m\u001b[38;5;241;43m.\u001b[39;49m\u001b[43mreadline\u001b[49m\u001b[43m(\u001b[49m\u001b[43m)\u001b[49m\u001b[38;5;241;43m.\u001b[39;49m\u001b[43mstrip\u001b[49m\u001b[43m(\u001b[49m\u001b[43m)\u001b[49m\u001b[43m)\u001b[49m\n\u001b[0;32m     32\u001b[0m \u001b[38;5;28;01mwhile\u001b[39;00m t \u001b[38;5;241m>\u001b[39m \u001b[38;5;241m0\u001b[39m :\n\u001b[0;32m     34\u001b[0m     arr, n \u001b[38;5;241m=\u001b[39m takeInput()\n",
      "\u001b[1;31mValueError\u001b[0m: invalid literal for int() with base 10: ''"
     ]
    }
   ],
   "source": [
    "from sys import stdin\n",
    "\n",
    "def sortZeroesAndOne(arr, n) :\n",
    "    j=-1\n",
    "    for i in range(n):\n",
    "        if arr[i]<1:\n",
    "            j=j+1\n",
    "            arr[i],arr[j]=arr[j],arr[i]\n",
    "        \n",
    "    #Your code goes here \n",
    "#Taking Input Using Fast I/O\n",
    "def takeInput() :\n",
    "    n = int(stdin.readline().strip())\n",
    "\n",
    "    if n == 0 :\n",
    "        return list(), 0\n",
    "\n",
    "    \n",
    "    arr = list(map(int, stdin.readline().strip().split(\" \")))\n",
    "    return arr, n\n",
    "\n",
    "\n",
    "def printList(arr, n) :\n",
    "    for i in range(n) :\n",
    "        print(arr[i], end = ' ')\n",
    "    print()\n",
    "\n",
    "\n",
    "#main\n",
    "t = int(stdin.readline().strip())\n",
    "\n",
    "while t > 0 :\n",
    "    \n",
    "    arr, n = takeInput()\n",
    "    sortZeroesAndOne(arr, n)\n",
    "    printList(arr, n)\n",
    "    print()\n",
    "\n",
    "    t -= 1"
   ]
  }
 ],
 "metadata": {
  "kernelspec": {
   "display_name": "Python 3 (ipykernel)",
   "language": "python",
   "name": "python3"
  },
  "language_info": {
   "codemirror_mode": {
    "name": "ipython",
    "version": 3
   },
   "file_extension": ".py",
   "mimetype": "text/x-python",
   "name": "python",
   "nbconvert_exporter": "python",
   "pygments_lexer": "ipython3",
   "version": "3.9.12"
  }
 },
 "nbformat": 4,
 "nbformat_minor": 5
}
