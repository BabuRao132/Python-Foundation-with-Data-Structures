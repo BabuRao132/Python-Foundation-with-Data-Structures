{
 "cells": [
  {
   "cell_type": "code",
   "execution_count": 2,
   "id": "7d60f627",
   "metadata": {},
   "outputs": [
    {
     "name": "stdout",
     "output_type": "stream",
     "text": [
      "7\n",
      "   *\n",
      "  ***\n",
      " *****\n",
      "*******\n",
      " *****\n",
      "  ***\n",
      "   *\n"
     ]
    }
   ],
   "source": [
    "## Read input as specified in the question.\n",
    "## Print output as specified in the question.\n",
    "n=int(input())\n",
    "n1=(n+1)//2\n",
    "n2=n-n1\n",
    "for i in range(1,n1+1):\n",
    "  for s in range(n1-i):\n",
    "    print(' ',end='')\n",
    "  for e in range(2*i-1):\n",
    "    print('*',end='')\n",
    "  print()\n",
    "for j in range(n2,0,-1):\n",
    "  for ss in range(j,n2+1):\n",
    "    print(' ',end='')\n",
    "  for ee in range(2*j-1):\n",
    "    print('*',end='')\n",
    "  print()"
   ]
  }
 ],
 "metadata": {
  "kernelspec": {
   "display_name": "Python 3 (ipykernel)",
   "language": "python",
   "name": "python3"
  },
  "language_info": {
   "codemirror_mode": {
    "name": "ipython",
    "version": 3
   },
   "file_extension": ".py",
   "mimetype": "text/x-python",
   "name": "python",
   "nbconvert_exporter": "python",
   "pygments_lexer": "ipython3",
   "version": "3.9.12"
  }
 },
 "nbformat": 4,
 "nbformat_minor": 5
}
