{
 "cells": [
  {
   "cell_type": "code",
   "execution_count": 1,
   "id": "c5192a0e",
   "metadata": {},
   "outputs": [
    {
     "name": "stdout",
     "output_type": "stream",
     "text": [
      "6\n",
      "1 2 3 4 5 6 \n",
      "13 14 15 16 17 18 \n",
      "25 26 27 28 29 30 \n",
      "31 32 33 34 35 36 \n",
      "19 20 21 22 23 24 \n",
      "7 8 9 10 11 12 \n"
     ]
    }
   ],
   "source": [
    "\n",
    "n=int(input())\n",
    "if n%2==0:\n",
    "  m=n-1\n",
    "else:\n",
    "  m=n-2\n",
    "for i in range(0,n,2):\n",
    "  for j in range(1,n+1):\n",
    "    print(n*i+j,end='')\n",
    "    print(' ',end='')\n",
    "  print()\n",
    "for i in range(m,0,-2):\n",
    "  for j in range(1,n+1):\n",
    "    print(n*i+j,end='')\n",
    "    print(' ',end='')\n",
    "  print()"
   ]
  }
 ],
 "metadata": {
  "kernelspec": {
   "display_name": "Python 3 (ipykernel)",
   "language": "python",
   "name": "python3"
  },
  "language_info": {
   "codemirror_mode": {
    "name": "ipython",
    "version": 3
   },
   "file_extension": ".py",
   "mimetype": "text/x-python",
   "name": "python",
   "nbconvert_exporter": "python",
   "pygments_lexer": "ipython3",
   "version": "3.9.12"
  }
 },
 "nbformat": 4,
 "nbformat_minor": 5
}
