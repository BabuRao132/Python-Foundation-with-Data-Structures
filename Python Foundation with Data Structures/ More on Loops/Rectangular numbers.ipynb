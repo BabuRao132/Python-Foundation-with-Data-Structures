{
 "cells": [
  {
   "cell_type": "code",
   "execution_count": 32,
   "id": "3af8b8ec",
   "metadata": {},
   "outputs": [
    {
     "name": "stdout",
     "output_type": "stream",
     "text": [
      "5\n",
      "555555555\n",
      "544444445\n",
      "543333345\n",
      "543222345\n",
      "543212345\n",
      "543222345\n",
      "543333345\n",
      "544444445\n",
      "555555555\n"
     ]
    }
   ],
   "source": [
    "n=int(input())\n",
    "for i in range(1,n+1):\n",
    "    temp = n\n",
    "\n",
    "    for j in range(1,i): \n",
    "        print(temp, end=\"\")\n",
    "        temp =temp -1\n",
    "\n",
    "    for j in range(1, (2*n) - (2*i) + 2):\n",
    "        print(n-i+1, end=\"\")\n",
    "    for j in range(1,i):\n",
    "        temp= temp+1\n",
    "        print(temp, end=\"\")\n",
    "    print()\n",
    "for i in range(n-1,0,-1):\n",
    "    temp=n\n",
    "    for j in range(1,i):\n",
    "        print(temp, end=\"\")\n",
    "        temp = temp -1\n",
    "\n",
    "    for j in range(1, (2*n) - (2*i) + 2):\n",
    "        print (n-i+1, end=\"\") \n",
    "    for j in range(1,i):\n",
    "        temp =temp+1\n",
    "        print(temp, end=\"\") \n",
    "    print()"
   ]
  }
 ],
 "metadata": {
  "kernelspec": {
   "display_name": "Python 3 (ipykernel)",
   "language": "python",
   "name": "python3"
  },
  "language_info": {
   "codemirror_mode": {
    "name": "ipython",
    "version": 3
   },
   "file_extension": ".py",
   "mimetype": "text/x-python",
   "name": "python",
   "nbconvert_exporter": "python",
   "pygments_lexer": "ipython3",
   "version": "3.9.12"
  }
 },
 "nbformat": 4,
 "nbformat_minor": 5
}
