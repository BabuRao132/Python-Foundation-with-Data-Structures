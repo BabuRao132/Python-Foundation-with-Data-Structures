{
 "cells": [
  {
   "cell_type": "code",
   "execution_count": null,
   "id": "a1c2cb48",
   "metadata": {},
   "outputs": [],
   "source": [
    "\n",
    "from sys import stdin\n",
    "\n",
    "\n",
    "def binarySearch(arr, n, x) :\n",
    "    #Your code goes here\n",
    "    if n>=1:\n",
    "        l=0\n",
    "        r=n-1\n",
    "        while l<=r:\n",
    "            mid=l+(r-l)//2\n",
    "            if arr[mid]==x:\n",
    "                return mid\n",
    "            elif arr[mid]<x:\n",
    "                l=mid+1\n",
    "            else:\n",
    "                r=mid-1\n",
    "        else:\n",
    "            return -1\n",
    "    else:\n",
    "        return -1\n",
    "            \n",
    "       \n",
    "\n",
    "\n",
    "#Taking Input Using Fast I/O\n",
    "def takeInput() :\n",
    "    n = int(stdin.readline().strip())\n",
    "    \n",
    "    if n == 0 :\n",
    "        return list(), 0\n",
    "\n",
    "    arr = list(map(int, stdin.readline().strip().split(\" \")))\n",
    "    return arr, n\n",
    "\n",
    "\n",
    "#main\n",
    "arr, n = takeInput()\n",
    "t = int(stdin.readline().strip())\n",
    "\n",
    "while t > 0 :\n",
    "    \n",
    "    x = int(input().strip())    \n",
    "    print(binarySearch(arr, n, x))\n",
    "\n",
    "    t -= 1"
   ]
  }
 ],
 "metadata": {
  "kernelspec": {
   "display_name": "Python 3 (ipykernel)",
   "language": "python",
   "name": "python3"
  },
  "language_info": {
   "codemirror_mode": {
    "name": "ipython",
    "version": 3
   },
   "file_extension": ".py",
   "mimetype": "text/x-python",
   "name": "python",
   "nbconvert_exporter": "python",
   "pygments_lexer": "ipython3",
   "version": "3.9.12"
  }
 },
 "nbformat": 4,
 "nbformat_minor": 5
}
